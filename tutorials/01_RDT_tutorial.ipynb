{
 "cells": [
  {
   "cell_type": "markdown",
   "metadata": {},
   "source": [
    "RDT Quickstart\n",
    "==========\n",
    "\n",
    "In this short series of tutorials we will guide you through a series of steps that will help you getting started using RDT to transform columns, tables and datasets."
   ]
  },
  {
   "cell_type": "markdown",
   "metadata": {},
   "source": [
    "# Load the demo data"
   ]
  },
  {
   "cell_type": "code",
   "execution_count": 9,
   "metadata": {},
   "outputs": [
    {
     "data": {
      "text/html": [
       "<div>\n",
       "<style scoped>\n",
       "    .dataframe tbody tr th:only-of-type {\n",
       "        vertical-align: middle;\n",
       "    }\n",
       "\n",
       "    .dataframe tbody tr th {\n",
       "        vertical-align: top;\n",
       "    }\n",
       "\n",
       "    .dataframe thead th {\n",
       "        text-align: right;\n",
       "    }\n",
       "</style>\n",
       "<table border=\"1\" class=\"dataframe\">\n",
       "  <thead>\n",
       "    <tr style=\"text-align: right;\">\n",
       "      <th></th>\n",
       "      <th>last_login</th>\n",
       "      <th>email_optin</th>\n",
       "      <th>credit_card</th>\n",
       "      <th>age</th>\n",
       "      <th>dollars_spent</th>\n",
       "    </tr>\n",
       "  </thead>\n",
       "  <tbody>\n",
       "    <tr>\n",
       "      <th>0</th>\n",
       "      <td>2021-06-26</td>\n",
       "      <td>False</td>\n",
       "      <td>VISA</td>\n",
       "      <td>29</td>\n",
       "      <td>99.99</td>\n",
       "    </tr>\n",
       "    <tr>\n",
       "      <th>1</th>\n",
       "      <td>2021-02-10</td>\n",
       "      <td>False</td>\n",
       "      <td>VISA</td>\n",
       "      <td>18</td>\n",
       "      <td>NaN</td>\n",
       "    </tr>\n",
       "    <tr>\n",
       "      <th>2</th>\n",
       "      <td>NaT</td>\n",
       "      <td>False</td>\n",
       "      <td>AMEX</td>\n",
       "      <td>21</td>\n",
       "      <td>2.50</td>\n",
       "    </tr>\n",
       "    <tr>\n",
       "      <th>3</th>\n",
       "      <td>2020-09-26</td>\n",
       "      <td>True</td>\n",
       "      <td>NaN</td>\n",
       "      <td>45</td>\n",
       "      <td>25.00</td>\n",
       "    </tr>\n",
       "    <tr>\n",
       "      <th>4</th>\n",
       "      <td>2020-12-22</td>\n",
       "      <td>NaN</td>\n",
       "      <td>DISCOVER</td>\n",
       "      <td>32</td>\n",
       "      <td>19.99</td>\n",
       "    </tr>\n",
       "  </tbody>\n",
       "</table>\n",
       "</div>"
      ],
      "text/plain": [
       "  last_login email_optin credit_card  age  dollars_spent\n",
       "0 2021-06-26       False        VISA   29          99.99\n",
       "1 2021-02-10       False        VISA   18            NaN\n",
       "2        NaT       False        AMEX   21           2.50\n",
       "3 2020-09-26        True         NaN   45          25.00\n",
       "4 2020-12-22         NaN    DISCOVER   32          19.99"
      ]
     },
     "execution_count": 9,
     "metadata": {},
     "output_type": "execute_result"
    }
   ],
   "source": [
    "from rdt import get_demo\n",
    "\n",
    "customers = get_demo()\n",
    "\n",
    "customers.head()"
   ]
  },
  {
   "cell_type": "markdown",
   "metadata": {},
   "source": [
    "This dataset contains some randomly generated values that describes the customers of an online marketplace.\n",
    "\n",
    "Let's transform this data so that each column is converted to full, numerical data ready for data science.\n"
   ]
  },
  {
   "cell_type": "markdown",
   "metadata": {},
   "source": [
    "# Creating the HyperTransformer & config"
   ]
  },
  {
   "cell_type": "markdown",
   "metadata": {},
   "source": [
    "The `HyperTransformer` is capable of transforming multi-column datasets."
   ]
  },
  {
   "cell_type": "code",
   "execution_count": 10,
   "metadata": {},
   "outputs": [],
   "source": [
    "from rdt import HyperTransformer\n",
    "\n",
    "ht = HyperTransformer()"
   ]
  },
  {
   "cell_type": "markdown",
   "metadata": {},
   "source": [
    "The `HyperTransformer` needs to know about the columns in your dataset and which transformers to apply to each. These are described by a config. We can ask the HyperTransformer to automatically detect it based on the data we plan to use."
   ]
  },
  {
   "cell_type": "code",
   "execution_count": 23,
   "metadata": {},
   "outputs": [
    {
     "name": "stdout",
     "output_type": "stream",
     "text": [
      "Detecting a new config from the data ... SUCCESS\n",
      "Setting the new config ... SUCCESS\n",
      "Config:\n",
      "{\n",
      "    \"sdtypes\": {\n",
      "        \"last_login\": \"datetime\",\n",
      "        \"email_optin\": \"boolean\",\n",
      "        \"credit_card\": \"categorical\",\n",
      "        \"age\": \"numerical\",\n",
      "        \"dollars_spent\": \"numerical\"\n",
      "    },\n",
      "    \"transformers\": {\n",
      "        \"last_login\": UnixTimestampEncoder(missing_value_replacement='mean'),\n",
      "        \"email_optin\": BinaryEncoder(missing_value_replacement='mode'),\n",
      "        \"credit_card\": FrequencyEncoder(),\n",
      "        \"age\": FloatFormatter(missing_value_replacement='mean'),\n",
      "        \"dollars_spent\": FloatFormatter(missing_value_replacement='mean')\n",
      "    }\n",
      "}\n"
     ]
    }
   ],
   "source": [
    "config = ht.detect_initial_config(data=customers)\n"
   ]
  },
  {
   "cell_type": "markdown",
   "metadata": {},
   "source": [
    "The `sdtypes` dictionary describes the semantic data types of each of your columns and the `transformers` dictionary describes which transformer to use for each column."
   ]
  },
  {
   "cell_type": "markdown",
   "metadata": {},
   "source": [
    "# Fitting & using the HyperTransformer"
   ]
  },
  {
   "cell_type": "markdown",
   "metadata": {},
   "source": [
    "The `HyperTransformer` references the config while learning the data during the fit stage."
   ]
  },
  {
   "cell_type": "code",
   "execution_count": 13,
   "metadata": {},
   "outputs": [],
   "source": [
    "ht.fit(customers)"
   ]
  },
  {
   "cell_type": "markdown",
   "metadata": {},
   "source": [
    "Once the transformer is fit, it's ready to use. Use the transform method to transform all columns of your dataset at once."
   ]
  },
  {
   "cell_type": "code",
   "execution_count": 15,
   "metadata": {},
   "outputs": [
    {
     "data": {
      "text/html": [
       "<div>\n",
       "<style scoped>\n",
       "    .dataframe tbody tr th:only-of-type {\n",
       "        vertical-align: middle;\n",
       "    }\n",
       "\n",
       "    .dataframe tbody tr th {\n",
       "        vertical-align: top;\n",
       "    }\n",
       "\n",
       "    .dataframe thead th {\n",
       "        text-align: right;\n",
       "    }\n",
       "</style>\n",
       "<table border=\"1\" class=\"dataframe\">\n",
       "  <thead>\n",
       "    <tr style=\"text-align: right;\">\n",
       "      <th></th>\n",
       "      <th>last_login.value</th>\n",
       "      <th>email_optin.value</th>\n",
       "      <th>credit_card.value</th>\n",
       "      <th>age.value</th>\n",
       "      <th>dollars_spent.value</th>\n",
       "    </tr>\n",
       "  </thead>\n",
       "  <tbody>\n",
       "    <tr>\n",
       "      <th>0</th>\n",
       "      <td>1.624666e+18</td>\n",
       "      <td>0.0</td>\n",
       "      <td>0.2</td>\n",
       "      <td>29.0</td>\n",
       "      <td>99.99</td>\n",
       "    </tr>\n",
       "    <tr>\n",
       "      <th>1</th>\n",
       "      <td>1.612915e+18</td>\n",
       "      <td>0.0</td>\n",
       "      <td>0.2</td>\n",
       "      <td>18.0</td>\n",
       "      <td>36.87</td>\n",
       "    </tr>\n",
       "    <tr>\n",
       "      <th>2</th>\n",
       "      <td>1.611814e+18</td>\n",
       "      <td>0.0</td>\n",
       "      <td>0.5</td>\n",
       "      <td>21.0</td>\n",
       "      <td>2.50</td>\n",
       "    </tr>\n",
       "    <tr>\n",
       "      <th>3</th>\n",
       "      <td>1.601078e+18</td>\n",
       "      <td>1.0</td>\n",
       "      <td>0.7</td>\n",
       "      <td>45.0</td>\n",
       "      <td>25.00</td>\n",
       "    </tr>\n",
       "    <tr>\n",
       "      <th>4</th>\n",
       "      <td>1.608595e+18</td>\n",
       "      <td>0.0</td>\n",
       "      <td>0.9</td>\n",
       "      <td>32.0</td>\n",
       "      <td>19.99</td>\n",
       "    </tr>\n",
       "  </tbody>\n",
       "</table>\n",
       "</div>"
      ],
      "text/plain": [
       "   last_login.value  email_optin.value  credit_card.value  age.value  \\\n",
       "0      1.624666e+18                0.0                0.2       29.0   \n",
       "1      1.612915e+18                0.0                0.2       18.0   \n",
       "2      1.611814e+18                0.0                0.5       21.0   \n",
       "3      1.601078e+18                1.0                0.7       45.0   \n",
       "4      1.608595e+18                0.0                0.9       32.0   \n",
       "\n",
       "   dollars_spent.value  \n",
       "0                99.99  \n",
       "1                36.87  \n",
       "2                 2.50  \n",
       "3                25.00  \n",
       "4                19.99  "
      ]
     },
     "execution_count": 15,
     "metadata": {},
     "output_type": "execute_result"
    }
   ],
   "source": [
    "transformed_data = ht.transform(customers)\n",
    "\n",
    "transformed_data.head()"
   ]
  },
  {
   "cell_type": "markdown",
   "metadata": {},
   "source": [
    "The `HyperTransformer` applied the assigned transformer to each individual column. Each column now contains fully numerical data that you can use for your project!\n",
    "\n",
    "When you're done with your project, you can also transform the data back to the original format using the reverse_transform method."
   ]
  },
  {
   "cell_type": "code",
   "execution_count": 16,
   "metadata": {},
   "outputs": [
    {
     "data": {
      "text/html": [
       "<div>\n",
       "<style scoped>\n",
       "    .dataframe tbody tr th:only-of-type {\n",
       "        vertical-align: middle;\n",
       "    }\n",
       "\n",
       "    .dataframe tbody tr th {\n",
       "        vertical-align: top;\n",
       "    }\n",
       "\n",
       "    .dataframe thead th {\n",
       "        text-align: right;\n",
       "    }\n",
       "</style>\n",
       "<table border=\"1\" class=\"dataframe\">\n",
       "  <thead>\n",
       "    <tr style=\"text-align: right;\">\n",
       "      <th></th>\n",
       "      <th>last_login</th>\n",
       "      <th>email_optin</th>\n",
       "      <th>credit_card</th>\n",
       "      <th>age</th>\n",
       "      <th>dollars_spent</th>\n",
       "    </tr>\n",
       "  </thead>\n",
       "  <tbody>\n",
       "    <tr>\n",
       "      <th>0</th>\n",
       "      <td>2021-06-26</td>\n",
       "      <td>NaN</td>\n",
       "      <td>VISA</td>\n",
       "      <td>29</td>\n",
       "      <td>99.99</td>\n",
       "    </tr>\n",
       "    <tr>\n",
       "      <th>1</th>\n",
       "      <td>NaT</td>\n",
       "      <td>False</td>\n",
       "      <td>VISA</td>\n",
       "      <td>18</td>\n",
       "      <td>36.87</td>\n",
       "    </tr>\n",
       "    <tr>\n",
       "      <th>2</th>\n",
       "      <td>2021-01-28</td>\n",
       "      <td>False</td>\n",
       "      <td>AMEX</td>\n",
       "      <td>21</td>\n",
       "      <td>2.50</td>\n",
       "    </tr>\n",
       "    <tr>\n",
       "      <th>3</th>\n",
       "      <td>2020-09-26</td>\n",
       "      <td>True</td>\n",
       "      <td>NaN</td>\n",
       "      <td>45</td>\n",
       "      <td>25.00</td>\n",
       "    </tr>\n",
       "    <tr>\n",
       "      <th>4</th>\n",
       "      <td>2020-12-22</td>\n",
       "      <td>False</td>\n",
       "      <td>DISCOVER</td>\n",
       "      <td>32</td>\n",
       "      <td>19.99</td>\n",
       "    </tr>\n",
       "  </tbody>\n",
       "</table>\n",
       "</div>"
      ],
      "text/plain": [
       "  last_login email_optin credit_card  age  dollars_spent\n",
       "0 2021-06-26         NaN        VISA   29          99.99\n",
       "1        NaT       False        VISA   18          36.87\n",
       "2 2021-01-28       False        AMEX   21           2.50\n",
       "3 2020-09-26        True         NaN   45          25.00\n",
       "4 2020-12-22       False    DISCOVER   32          19.99"
      ]
     },
     "execution_count": 16,
     "metadata": {},
     "output_type": "execute_result"
    }
   ],
   "source": [
    "original_format_data = ht.reverse_transform(transformed_data)\n",
    "\n",
    "original_format_data.head()"
   ]
  },
  {
   "cell_type": "markdown",
   "metadata": {},
   "source": [
    "# Transforming a single column"
   ]
  },
  {
   "cell_type": "markdown",
   "metadata": {},
   "source": [
    "It is also possible to transform a single column of a `pandas.DataFrame`. To do this, follow the following steps.\n",
    "\n",
    "## Load the transformer\n",
    "\n",
    "In this example we will use the datetime column, so let's load a UnixTimestampEncoder."
   ]
  },
  {
   "cell_type": "code",
   "execution_count": 17,
   "metadata": {},
   "outputs": [],
   "source": [
    "from rdt.transformers import UnixTimestampEncoder\n",
    "\n",
    "transformer = UnixTimestampEncoder()"
   ]
  },
  {
   "cell_type": "markdown",
   "metadata": {},
   "source": [
    "## Fit the Transformer\n",
    "\n",
    "Before being able to transform the data, we need the transformer to learn from it.\n",
    "\n",
    "We will do this by calling its fit method passing the column that we want to transform.\n",
    "\n"
   ]
  },
  {
   "cell_type": "code",
   "execution_count": 18,
   "metadata": {},
   "outputs": [],
   "source": [
    "transformer.fit(customers, column='last_login')"
   ]
  },
  {
   "cell_type": "markdown",
   "metadata": {},
   "source": [
    "## Transform the data\n",
    "\n",
    "Once the transformer is fitted, we can pass the data again to its transform method in order to get the transformed version of the data."
   ]
  },
  {
   "cell_type": "code",
   "execution_count": 19,
   "metadata": {},
   "outputs": [],
   "source": [
    "transformed = transformer.transform(customers)"
   ]
  },
  {
   "cell_type": "markdown",
   "metadata": {},
   "source": [
    "The output will be a `pandas.DataFrame` similar to the input data, except with the original datetime column replaced with `last_login.value`."
   ]
  },
  {
   "cell_type": "code",
   "execution_count": 20,
   "metadata": {},
   "outputs": [
    {
     "data": {
      "text/html": [
       "<div>\n",
       "<style scoped>\n",
       "    .dataframe tbody tr th:only-of-type {\n",
       "        vertical-align: middle;\n",
       "    }\n",
       "\n",
       "    .dataframe tbody tr th {\n",
       "        vertical-align: top;\n",
       "    }\n",
       "\n",
       "    .dataframe thead th {\n",
       "        text-align: right;\n",
       "    }\n",
       "</style>\n",
       "<table border=\"1\" class=\"dataframe\">\n",
       "  <thead>\n",
       "    <tr style=\"text-align: right;\">\n",
       "      <th></th>\n",
       "      <th>email_optin</th>\n",
       "      <th>credit_card</th>\n",
       "      <th>age</th>\n",
       "      <th>dollars_spent</th>\n",
       "      <th>last_login.value</th>\n",
       "    </tr>\n",
       "  </thead>\n",
       "  <tbody>\n",
       "    <tr>\n",
       "      <th>0</th>\n",
       "      <td>False</td>\n",
       "      <td>VISA</td>\n",
       "      <td>29</td>\n",
       "      <td>99.99</td>\n",
       "      <td>1.624666e+18</td>\n",
       "    </tr>\n",
       "    <tr>\n",
       "      <th>1</th>\n",
       "      <td>False</td>\n",
       "      <td>VISA</td>\n",
       "      <td>18</td>\n",
       "      <td>NaN</td>\n",
       "      <td>1.612915e+18</td>\n",
       "    </tr>\n",
       "    <tr>\n",
       "      <th>2</th>\n",
       "      <td>False</td>\n",
       "      <td>AMEX</td>\n",
       "      <td>21</td>\n",
       "      <td>2.50</td>\n",
       "      <td>NaN</td>\n",
       "    </tr>\n",
       "    <tr>\n",
       "      <th>3</th>\n",
       "      <td>True</td>\n",
       "      <td>NaN</td>\n",
       "      <td>45</td>\n",
       "      <td>25.00</td>\n",
       "      <td>1.601078e+18</td>\n",
       "    </tr>\n",
       "    <tr>\n",
       "      <th>4</th>\n",
       "      <td>NaN</td>\n",
       "      <td>DISCOVER</td>\n",
       "      <td>32</td>\n",
       "      <td>19.99</td>\n",
       "      <td>1.608595e+18</td>\n",
       "    </tr>\n",
       "  </tbody>\n",
       "</table>\n",
       "</div>"
      ],
      "text/plain": [
       "  email_optin credit_card  age  dollars_spent  last_login.value\n",
       "0       False        VISA   29          99.99      1.624666e+18\n",
       "1       False        VISA   18            NaN      1.612915e+18\n",
       "2       False        AMEX   21           2.50               NaN\n",
       "3        True         NaN   45          25.00      1.601078e+18\n",
       "4         NaN    DISCOVER   32          19.99      1.608595e+18"
      ]
     },
     "execution_count": 20,
     "metadata": {},
     "output_type": "execute_result"
    }
   ],
   "source": [
    "transformed.head()"
   ]
  },
  {
   "cell_type": "markdown",
   "metadata": {},
   "source": [
    "## Revert the column transformation\n",
    "\n",
    "In order to revert the previous transformation, the transformed data can be passed to the `reverse_transform` method of the transformer:"
   ]
  },
  {
   "cell_type": "code",
   "execution_count": 21,
   "metadata": {},
   "outputs": [],
   "source": [
    "reversed_data = transformer.reverse_transform(transformed)"
   ]
  },
  {
   "cell_type": "markdown",
   "metadata": {},
   "source": [
    "The output will be a `pandas.DataFrame` containing the reverted values, which should be exactly like the original ones, except for the order of the columns.\n",
    "\n"
   ]
  },
  {
   "cell_type": "code",
   "execution_count": 22,
   "metadata": {},
   "outputs": [
    {
     "data": {
      "text/html": [
       "<div>\n",
       "<style scoped>\n",
       "    .dataframe tbody tr th:only-of-type {\n",
       "        vertical-align: middle;\n",
       "    }\n",
       "\n",
       "    .dataframe tbody tr th {\n",
       "        vertical-align: top;\n",
       "    }\n",
       "\n",
       "    .dataframe thead th {\n",
       "        text-align: right;\n",
       "    }\n",
       "</style>\n",
       "<table border=\"1\" class=\"dataframe\">\n",
       "  <thead>\n",
       "    <tr style=\"text-align: right;\">\n",
       "      <th></th>\n",
       "      <th>email_optin</th>\n",
       "      <th>credit_card</th>\n",
       "      <th>age</th>\n",
       "      <th>dollars_spent</th>\n",
       "      <th>last_login</th>\n",
       "    </tr>\n",
       "  </thead>\n",
       "  <tbody>\n",
       "    <tr>\n",
       "      <th>0</th>\n",
       "      <td>False</td>\n",
       "      <td>VISA</td>\n",
       "      <td>29</td>\n",
       "      <td>99.99</td>\n",
       "      <td>2021-06-26</td>\n",
       "    </tr>\n",
       "    <tr>\n",
       "      <th>1</th>\n",
       "      <td>False</td>\n",
       "      <td>VISA</td>\n",
       "      <td>18</td>\n",
       "      <td>NaN</td>\n",
       "      <td>2021-02-10</td>\n",
       "    </tr>\n",
       "    <tr>\n",
       "      <th>2</th>\n",
       "      <td>False</td>\n",
       "      <td>AMEX</td>\n",
       "      <td>21</td>\n",
       "      <td>2.50</td>\n",
       "      <td>NaT</td>\n",
       "    </tr>\n",
       "    <tr>\n",
       "      <th>3</th>\n",
       "      <td>True</td>\n",
       "      <td>NaN</td>\n",
       "      <td>45</td>\n",
       "      <td>25.00</td>\n",
       "      <td>2020-09-26</td>\n",
       "    </tr>\n",
       "    <tr>\n",
       "      <th>4</th>\n",
       "      <td>NaN</td>\n",
       "      <td>DISCOVER</td>\n",
       "      <td>32</td>\n",
       "      <td>19.99</td>\n",
       "      <td>2020-12-22</td>\n",
       "    </tr>\n",
       "  </tbody>\n",
       "</table>\n",
       "</div>"
      ],
      "text/plain": [
       "  email_optin credit_card  age  dollars_spent last_login\n",
       "0       False        VISA   29          99.99 2021-06-26\n",
       "1       False        VISA   18            NaN 2021-02-10\n",
       "2       False        AMEX   21           2.50        NaT\n",
       "3        True         NaN   45          25.00 2020-09-26\n",
       "4         NaN    DISCOVER   32          19.99 2020-12-22"
      ]
     },
     "execution_count": 22,
     "metadata": {},
     "output_type": "execute_result"
    }
   ],
   "source": [
    "reversed_data.head()"
   ]
  },
  {
   "cell_type": "markdown",
   "metadata": {},
   "source": [
    "# Change the hypertransformer's config\n",
    "\n"
   ]
  },
  {
   "cell_type": "markdown",
   "metadata": {},
   "source": [
    "We first retrieve the deautl config."
   ]
  },
  {
   "cell_type": "code",
   "execution_count": 28,
   "metadata": {},
   "outputs": [
    {
     "data": {
      "text/plain": [
       "{\n",
       "    \"sdtypes\": {\n",
       "        \"last_login\": \"datetime\",\n",
       "        \"email_optin\": \"boolean\",\n",
       "        \"credit_card\": \"categorical\",\n",
       "        \"age\": \"numerical\",\n",
       "        \"dollars_spent\": \"numerical\"\n",
       "    },\n",
       "    \"transformers\": {\n",
       "        \"last_login\": UnixTimestampEncoder(missing_value_replacement='mean'),\n",
       "        \"email_optin\": BinaryEncoder(missing_value_replacement='mode'),\n",
       "        \"credit_card\": FrequencyEncoder(),\n",
       "        \"age\": FloatFormatter(missing_value_replacement='mean'),\n",
       "        \"dollars_spent\": FloatFormatter(missing_value_replacement='mean')\n",
       "    }\n",
       "}"
      ]
     },
     "execution_count": 28,
     "metadata": {},
     "output_type": "execute_result"
    }
   ],
   "source": [
    "config = ht.get_config()\n",
    "\n",
    "config"
   ]
  },
  {
   "cell_type": "markdown",
   "metadata": {},
   "source": [
    "## Change the \"credit_card\" encoder to a one-hot encoder.\n"
   ]
  },
  {
   "cell_type": "code",
   "execution_count": 30,
   "metadata": {},
   "outputs": [],
   "source": [
    "from rdt.transformers import OneHotEncoder\n",
    "\n",
    "config[\"transformers\"][\"credit_card\"] = OneHotEncoder()\n",
    "\n",
    "ht.set_config(config)"
   ]
  },
  {
   "cell_type": "markdown",
   "metadata": {},
   "source": [
    "We then refit the hypertransformer.\n"
   ]
  },
  {
   "cell_type": "code",
   "execution_count": 34,
   "metadata": {},
   "outputs": [
    {
     "data": {
      "text/html": [
       "<div>\n",
       "<style scoped>\n",
       "    .dataframe tbody tr th:only-of-type {\n",
       "        vertical-align: middle;\n",
       "    }\n",
       "\n",
       "    .dataframe tbody tr th {\n",
       "        vertical-align: top;\n",
       "    }\n",
       "\n",
       "    .dataframe thead th {\n",
       "        text-align: right;\n",
       "    }\n",
       "</style>\n",
       "<table border=\"1\" class=\"dataframe\">\n",
       "  <thead>\n",
       "    <tr style=\"text-align: right;\">\n",
       "      <th></th>\n",
       "      <th>last_login.value</th>\n",
       "      <th>email_optin.value</th>\n",
       "      <th>credit_card.value</th>\n",
       "      <th>age.value</th>\n",
       "      <th>dollars_spent.value</th>\n",
       "    </tr>\n",
       "  </thead>\n",
       "  <tbody>\n",
       "    <tr>\n",
       "      <th>0</th>\n",
       "      <td>1.624666e+18</td>\n",
       "      <td>0.0</td>\n",
       "      <td>0.2</td>\n",
       "      <td>29.0</td>\n",
       "      <td>99.99</td>\n",
       "    </tr>\n",
       "    <tr>\n",
       "      <th>1</th>\n",
       "      <td>1.612915e+18</td>\n",
       "      <td>0.0</td>\n",
       "      <td>0.2</td>\n",
       "      <td>18.0</td>\n",
       "      <td>36.87</td>\n",
       "    </tr>\n",
       "    <tr>\n",
       "      <th>2</th>\n",
       "      <td>1.611814e+18</td>\n",
       "      <td>0.0</td>\n",
       "      <td>0.5</td>\n",
       "      <td>21.0</td>\n",
       "      <td>2.50</td>\n",
       "    </tr>\n",
       "    <tr>\n",
       "      <th>3</th>\n",
       "      <td>1.601078e+18</td>\n",
       "      <td>1.0</td>\n",
       "      <td>0.7</td>\n",
       "      <td>45.0</td>\n",
       "      <td>25.00</td>\n",
       "    </tr>\n",
       "    <tr>\n",
       "      <th>4</th>\n",
       "      <td>1.608595e+18</td>\n",
       "      <td>0.0</td>\n",
       "      <td>0.9</td>\n",
       "      <td>32.0</td>\n",
       "      <td>19.99</td>\n",
       "    </tr>\n",
       "  </tbody>\n",
       "</table>\n",
       "</div>"
      ],
      "text/plain": [
       "   last_login.value  email_optin.value  credit_card.value  age.value  \\\n",
       "0      1.624666e+18                0.0                0.2       29.0   \n",
       "1      1.612915e+18                0.0                0.2       18.0   \n",
       "2      1.611814e+18                0.0                0.5       21.0   \n",
       "3      1.601078e+18                1.0                0.7       45.0   \n",
       "4      1.608595e+18                0.0                0.9       32.0   \n",
       "\n",
       "   dollars_spent.value  \n",
       "0                99.99  \n",
       "1                36.87  \n",
       "2                 2.50  \n",
       "3                25.00  \n",
       "4                19.99  "
      ]
     },
     "execution_count": 34,
     "metadata": {},
     "output_type": "execute_result"
    }
   ],
   "source": [
    "ht.fit(customers)\n",
    "\n",
    "transformed_data_one_hot = ht.transform(customers)\n",
    "\n",
    "transformed_data.head()\n"
   ]
  },
  {
   "cell_type": "code",
   "execution_count": 35,
   "metadata": {},
   "outputs": [
    {
     "data": {
      "text/html": [
       "<div>\n",
       "<style scoped>\n",
       "    .dataframe tbody tr th:only-of-type {\n",
       "        vertical-align: middle;\n",
       "    }\n",
       "\n",
       "    .dataframe tbody tr th {\n",
       "        vertical-align: top;\n",
       "    }\n",
       "\n",
       "    .dataframe thead th {\n",
       "        text-align: right;\n",
       "    }\n",
       "</style>\n",
       "<table border=\"1\" class=\"dataframe\">\n",
       "  <thead>\n",
       "    <tr style=\"text-align: right;\">\n",
       "      <th></th>\n",
       "      <th>last_login.value</th>\n",
       "      <th>email_optin.value</th>\n",
       "      <th>credit_card.value3</th>\n",
       "      <th>credit_card.value2</th>\n",
       "      <th>credit_card.value1</th>\n",
       "      <th>credit_card.value0</th>\n",
       "      <th>age.value</th>\n",
       "      <th>dollars_spent.value</th>\n",
       "    </tr>\n",
       "  </thead>\n",
       "  <tbody>\n",
       "    <tr>\n",
       "      <th>0</th>\n",
       "      <td>1.624666e+18</td>\n",
       "      <td>0.0</td>\n",
       "      <td>0</td>\n",
       "      <td>0</td>\n",
       "      <td>0</td>\n",
       "      <td>1</td>\n",
       "      <td>29.0</td>\n",
       "      <td>99.99</td>\n",
       "    </tr>\n",
       "    <tr>\n",
       "      <th>1</th>\n",
       "      <td>1.612915e+18</td>\n",
       "      <td>0.0</td>\n",
       "      <td>0</td>\n",
       "      <td>0</td>\n",
       "      <td>0</td>\n",
       "      <td>1</td>\n",
       "      <td>18.0</td>\n",
       "      <td>36.87</td>\n",
       "    </tr>\n",
       "    <tr>\n",
       "      <th>2</th>\n",
       "      <td>1.611814e+18</td>\n",
       "      <td>0.0</td>\n",
       "      <td>0</td>\n",
       "      <td>0</td>\n",
       "      <td>1</td>\n",
       "      <td>0</td>\n",
       "      <td>21.0</td>\n",
       "      <td>2.50</td>\n",
       "    </tr>\n",
       "    <tr>\n",
       "      <th>3</th>\n",
       "      <td>1.601078e+18</td>\n",
       "      <td>1.0</td>\n",
       "      <td>1</td>\n",
       "      <td>0</td>\n",
       "      <td>0</td>\n",
       "      <td>0</td>\n",
       "      <td>45.0</td>\n",
       "      <td>25.00</td>\n",
       "    </tr>\n",
       "    <tr>\n",
       "      <th>4</th>\n",
       "      <td>1.608595e+18</td>\n",
       "      <td>0.0</td>\n",
       "      <td>0</td>\n",
       "      <td>1</td>\n",
       "      <td>0</td>\n",
       "      <td>0</td>\n",
       "      <td>32.0</td>\n",
       "      <td>19.99</td>\n",
       "    </tr>\n",
       "  </tbody>\n",
       "</table>\n",
       "</div>"
      ],
      "text/plain": [
       "   last_login.value  email_optin.value  credit_card.value3  \\\n",
       "0      1.624666e+18                0.0                   0   \n",
       "1      1.612915e+18                0.0                   0   \n",
       "2      1.611814e+18                0.0                   0   \n",
       "3      1.601078e+18                1.0                   1   \n",
       "4      1.608595e+18                0.0                   0   \n",
       "\n",
       "   credit_card.value2  credit_card.value1  credit_card.value0  age.value  \\\n",
       "0                   0                   0                   1       29.0   \n",
       "1                   0                   0                   1       18.0   \n",
       "2                   0                   1                   0       21.0   \n",
       "3                   0                   0                   0       45.0   \n",
       "4                   1                   0                   0       32.0   \n",
       "\n",
       "   dollars_spent.value  \n",
       "0                99.99  \n",
       "1                36.87  \n",
       "2                 2.50  \n",
       "3                25.00  \n",
       "4                19.99  "
      ]
     },
     "execution_count": 35,
     "metadata": {},
     "output_type": "execute_result"
    }
   ],
   "source": [
    "transformed_data_one_hot.head()"
   ]
  },
  {
   "cell_type": "markdown",
   "metadata": {},
   "source": [
    "Lets check the column's types and the reversibility of the operation."
   ]
  },
  {
   "cell_type": "code",
   "execution_count": 36,
   "metadata": {},
   "outputs": [
    {
     "data": {
      "text/html": [
       "<div>\n",
       "<style scoped>\n",
       "    .dataframe tbody tr th:only-of-type {\n",
       "        vertical-align: middle;\n",
       "    }\n",
       "\n",
       "    .dataframe tbody tr th {\n",
       "        vertical-align: top;\n",
       "    }\n",
       "\n",
       "    .dataframe thead th {\n",
       "        text-align: right;\n",
       "    }\n",
       "</style>\n",
       "<table border=\"1\" class=\"dataframe\">\n",
       "  <thead>\n",
       "    <tr style=\"text-align: right;\">\n",
       "      <th></th>\n",
       "      <th>last_login</th>\n",
       "      <th>email_optin</th>\n",
       "      <th>credit_card</th>\n",
       "      <th>age</th>\n",
       "      <th>dollars_spent</th>\n",
       "    </tr>\n",
       "  </thead>\n",
       "  <tbody>\n",
       "    <tr>\n",
       "      <th>0</th>\n",
       "      <td>NaT</td>\n",
       "      <td>NaN</td>\n",
       "      <td>VISA</td>\n",
       "      <td>29</td>\n",
       "      <td>99.99</td>\n",
       "    </tr>\n",
       "    <tr>\n",
       "      <th>1</th>\n",
       "      <td>2021-02-10</td>\n",
       "      <td>False</td>\n",
       "      <td>VISA</td>\n",
       "      <td>18</td>\n",
       "      <td>36.87</td>\n",
       "    </tr>\n",
       "    <tr>\n",
       "      <th>2</th>\n",
       "      <td>2021-01-28</td>\n",
       "      <td>NaN</td>\n",
       "      <td>AMEX</td>\n",
       "      <td>21</td>\n",
       "      <td>NaN</td>\n",
       "    </tr>\n",
       "    <tr>\n",
       "      <th>3</th>\n",
       "      <td>NaT</td>\n",
       "      <td>True</td>\n",
       "      <td>NaN</td>\n",
       "      <td>45</td>\n",
       "      <td>NaN</td>\n",
       "    </tr>\n",
       "    <tr>\n",
       "      <th>4</th>\n",
       "      <td>NaT</td>\n",
       "      <td>False</td>\n",
       "      <td>DISCOVER</td>\n",
       "      <td>32</td>\n",
       "      <td>NaN</td>\n",
       "    </tr>\n",
       "  </tbody>\n",
       "</table>\n",
       "</div>"
      ],
      "text/plain": [
       "  last_login email_optin credit_card  age  dollars_spent\n",
       "0        NaT         NaN        VISA   29          99.99\n",
       "1 2021-02-10       False        VISA   18          36.87\n",
       "2 2021-01-28         NaN        AMEX   21            NaN\n",
       "3        NaT        True         NaN   45            NaN\n",
       "4        NaT       False    DISCOVER   32            NaN"
      ]
     },
     "execution_count": 36,
     "metadata": {},
     "output_type": "execute_result"
    }
   ],
   "source": [
    "reverse_transform = ht.reverse_transform(transformed_data_one_hot)\n",
    "reverse_transform.head()"
   ]
  },
  {
   "cell_type": "code",
   "execution_count": 37,
   "metadata": {},
   "outputs": [
    {
     "data": {
      "text/plain": [
       "last_login.value       float64\n",
       "email_optin.value      float64\n",
       "credit_card.value3       int64\n",
       "credit_card.value2       int64\n",
       "credit_card.value1       int64\n",
       "credit_card.value0       int64\n",
       "age.value              float64\n",
       "dollars_spent.value    float64\n",
       "dtype: object"
      ]
     },
     "execution_count": 37,
     "metadata": {},
     "output_type": "execute_result"
    }
   ],
   "source": [
    "transformed_data_one_hot.dtypes"
   ]
  }
 ],
 "metadata": {
  "kernelspec": {
   "display_name": "Python 3.8.13 ('SDV')",
   "language": "python",
   "name": "python3"
  },
  "language_info": {
   "codemirror_mode": {
    "name": "ipython",
    "version": 3
   },
   "file_extension": ".py",
   "mimetype": "text/x-python",
   "name": "python",
   "nbconvert_exporter": "python",
   "pygments_lexer": "ipython3",
   "version": "3.8.13"
  },
  "orig_nbformat": 4,
  "vscode": {
   "interpreter": {
    "hash": "da1c539861e00faeef484f9956ba38c1a456d98afbcc28a84d40cb2d1783d757"
   }
  }
 },
 "nbformat": 4,
 "nbformat_minor": 2
}
